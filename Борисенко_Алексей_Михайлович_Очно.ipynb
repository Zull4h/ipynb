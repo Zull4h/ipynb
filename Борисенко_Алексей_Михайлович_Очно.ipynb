{
 "cells": [
  {
   "cell_type": "code",
   "execution_count": null,
   "metadata": {},
   "outputs": [],
   "source": [
    "#Борисенко Алексей Михайлович"
   ]
  },
  {
   "cell_type": "code",
   "execution_count": null,
   "metadata": {},
   "outputs": [],
   "source": [
    "#Б1 Линейная регрессия\n",
    "#Задача: модель зависимости этажности от цены"
   ]
  },
  {
   "cell_type": "code",
   "execution_count": 57,
   "metadata": {},
   "outputs": [],
   "source": [
    "#load\n",
    "import pandas\n",
    "\n",
    "data_frame = pandas.read_csv(\"realtXY16.csv\")\n",
    "data_frame = data_frame[data_frame[\"Этажность\"].apply(lambda x: x.isnumeric())]\n",
    "\n",
    "#зависимость этажности от цены\n",
    "x = list(map(lambda item: [item], data_frame[\"Цена\"].values))\n",
    "y = data_frame[\"Этажность\"].values"
   ]
  },
  {
   "cell_type": "code",
   "execution_count": 90,
   "metadata": {},
   "outputs": [],
   "source": [
    "#train\n",
    "from sklearn.linear_model import LinearRegression, Lasso, Ridge\n",
    "\n",
    "linear_model = LinearRegression().fit(x, y)\n",
    "lasso_model = Lasso(2.0).fit(x, y)\n",
    "ridge_model = Ridge(0.1).fit(x, y)"
   ]
  },
  {
   "cell_type": "code",
   "execution_count": 88,
   "metadata": {},
   "outputs": [
    {
     "name": "stdout",
     "output_type": "stream",
     "text": [
      "LinearRegression(copy_X=True, fit_intercept=True, n_jobs=None,\n",
      "         normalize=False)\n",
      "значение R2 метрики:  -3.1075636892100302\n",
      "Этаж:  11.659603602505946 \n",
      "\n",
      "Lasso(alpha=2.0, copy_X=True, fit_intercept=True, max_iter=1000,\n",
      "   normalize=False, positive=False, precompute=False, random_state=None,\n",
      "   selection='cyclic', tol=0.0001, warm_start=False)\n",
      "значение R2 метрики:  -3.1075636919592977\n",
      "Этаж:  11.65955858371876 \n",
      "\n",
      "Ridge(alpha=0.1, copy_X=True, fit_intercept=True, max_iter=None,\n",
      "   normalize=False, random_state=None, solver='auto', tol=0.001)\n",
      "значение R2 метрики:  -3.1075636892100302\n",
      "Этаж:  11.659603602505928 \n",
      "\n"
     ]
    }
   ],
   "source": [
    "#test\n",
    "from sklearn.metrics import r2_score\n",
    "\n",
    "def print_result(model):\n",
    "    print(model)\n",
    "    predict_floors = model.predict(x)\n",
    "    print(\"значение R2 метрики: \", r2_score(x, predict_floors))\n",
    "\n",
    "    floor = model.predict([[100000]])[0]\n",
    "    print(\"Этаж: \", floor, \"\\n\")\n",
    "\n",
    "print_result(linear_model)\n",
    "print_result(lasso_model)\n",
    "print_result(ridge_model)"
   ]
  },
  {
   "cell_type": "code",
   "execution_count": 89,
   "metadata": {},
   "outputs": [],
   "source": [
    "#Б8 перцептрон\n",
    "#Задача: предсказать район от цены, количества комнат, этажности, года"
   ]
  },
  {
   "cell_type": "code",
   "execution_count": 13,
   "metadata": {},
   "outputs": [],
   "source": [
    "#load\n",
    "import pandas\n",
    "\n",
    "data_frame = pandas.read_csv(\"realtXY16.csv\")\n",
    "data_frame = data_frame[data_frame[\"Этажность\"].apply(lambda x: x.isnumeric())]\n",
    "data_frame = data_frame[data_frame[\"Всего\"].apply(lambda x: x.isnumeric())]\n",
    "\n",
    "price = data_frame[\"Цена\"].values\n",
    "rooms = [int(index) for index in data_frame[\"Всего\"].values]\n",
    "floor = [int(index) for index in data_frame[\"Этажность\"].values]\n",
    "year = data_frame[\"Год\"].values\n",
    "region = data_frame[\"Район\"].values\n",
    "\n",
    "regions = list(set(data_frame[\"Район\"].values))\n",
    "\n",
    "def region_index(region):\n",
    "    return regions.index(region)\n",
    "\n",
    "train_set = []\n",
    "\n",
    "train_inputs = [[\n",
    "    price[index],\n",
    "    rooms[index],\n",
    "    floor[index],\n",
    "    year[index]] for index in range(len(data_frame))]\n",
    "\n",
    "train_outputs = [region_index(current_region) for current_region in region]"
   ]
  },
  {
   "cell_type": "code",
   "execution_count": 14,
   "metadata": {},
   "outputs": [
    {
     "data": {
      "text/plain": [
       "MLPClassifier(activation='relu', alpha=0.0001, batch_size='auto', beta_1=0.9,\n",
       "       beta_2=0.999, early_stopping=False, epsilon=1e-08,\n",
       "       hidden_layer_sizes=(9, 9, 9), learning_rate='constant',\n",
       "       learning_rate_init=0.001, max_iter=200, momentum=0.9,\n",
       "       n_iter_no_change=10, nesterovs_momentum=True, power_t=0.5,\n",
       "       random_state=None, shuffle=True, solver='adam', tol=0.0001,\n",
       "       validation_fraction=0.1, verbose=False, warm_start=False)"
      ]
     },
     "execution_count": 14,
     "metadata": {},
     "output_type": "execute_result"
    }
   ],
   "source": [
    "#train\n",
    "from sklearn.neural_network import MLPClassifier\n",
    "\n",
    "classifier = MLPClassifier(hidden_layer_sizes=(len(regions), len(regions), len(regions)))\n",
    "classifier.fit(train_inputs, train_outputs)"
   ]
  },
  {
   "cell_type": "code",
   "execution_count": 42,
   "metadata": {},
   "outputs": [
    {
     "name": "stdout",
     "output_type": "stream",
     "text": [
      "Точность:  12 %\n",
      "Окт\n"
     ]
    }
   ],
   "source": [
    "#test\n",
    "\n",
    "def get_predict_region(price, number_of_rooms, number_of_floors, year):\n",
    "    return regions[int(classifier.predict([[price, number_of_rooms, number_of_floors, year]]))]\n",
    "\n",
    "def get_accuracy():\n",
    "    true_count = 0\n",
    "    \n",
    "    for i in range(len(train_inputs)):\n",
    "        train_input = train_inputs[i]\n",
    "    \n",
    "        if classifier.predict([train_input])[0] == train_outputs[i]:\n",
    "            true_count += 1\n",
    "\n",
    "    return true_count / len(train_outputs)\n",
    "\n",
    "print(\"Точность: \", int(get_accuracy() * 100), \"%\")\n",
    "print(get_predict_region(30000, 1, 1, 1990))"
   ]
  },
  {
   "cell_type": "code",
   "execution_count": null,
   "metadata": {},
   "outputs": [],
   "source": []
  }
 ],
 "metadata": {
  "kernelspec": {
   "display_name": "Python 3",
   "language": "python",
   "name": "python3"
  },
  "language_info": {
   "codemirror_mode": {
    "name": "ipython",
    "version": 3
   },
   "file_extension": ".py",
   "mimetype": "text/x-python",
   "name": "python",
   "nbconvert_exporter": "python",
   "pygments_lexer": "ipython3",
   "version": "3.6.7"
  }
 },
 "nbformat": 4,
 "nbformat_minor": 2
}
