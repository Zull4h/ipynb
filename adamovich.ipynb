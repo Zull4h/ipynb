{
 "cells": [
  {
   "cell_type": "code",
   "execution_count": 9,
   "metadata": {
    "collapsed": true
   },
   "outputs": [],
   "source": [
    "import re"
   ]
  },
  {
   "cell_type": "code",
   "execution_count": null,
   "metadata": {},
   "outputs": [],
   "source": [
    "def correction_1(input_file):\n",
    "    with open (input_file) as file_1:\n",
    "        result = re.sub(r'\\s+([.,!?:;])', r'\\1', file_1.read(), re.MULTILINE)\n",
    "    return result\n",
    "print correction_1(\"reviews.txt\")"
   ]
  },
  {
   "cell_type": "code",
   "execution_count": null,
   "metadata": {},
   "outputs": [],
   "source": [
    "def correction_2(input_file):\n",
    "    with open (input_file) as file_2:\n",
    "        result = re.sub(r'([.,!?:;])\\1+', r'\\1', file_2.read(), re.MULTILINE)\n",
    "    return result\n",
    "print correction_2(\"reviews.txt\")"
   ]
  },
  {
   "cell_type": "code",
   "execution_count": null,
   "metadata": {
    "scrolled": true
   },
   "outputs": [],
   "source": [
    "def correction_3(input_file):\n",
    "    with open (input_file) as file_3:\n",
    "        result = re.sub(\"[&]\", \"and\", file_3.read())\n",
    "    return result\n",
    "print correction_3(\"reviews.txt\")"
   ]
  },
  {
   "cell_type": "code",
   "execution_count": null,
   "metadata": {},
   "outputs": [],
   "source": [
    "def correction_4(input_file):\n",
    "    with open (input_file) as file_4:\n",
    "        result = re.sub(\"don't\", \"do not\", file_4.read(), flags = re.IGNORECASE)\n",
    "    return result\n",
    "print correction_4(\"reviews.txt\")"
   ]
  },
  {
   "cell_type": "code",
   "execution_count": null,
   "metadata": {},
   "outputs": [],
   "source": [
    "def correction_5(input_file):\n",
    "    with open (input_file) as file_5:\n",
    "        result = []\n",
    "        refactored_text = file_5.read().translate(None, '\"')\n",
    "        sentences = re.split('[\\.\\?!]' , refactored_text)\n",
    "        for sentence in sentences:\n",
    "            if re.compile(r'^I\\s+like(.+)').search(sentence):\n",
    "                result.append(sentence)\n",
    "    return result\n",
    "print correction_5(\"reviews.txt\")"
   ]
  },
  {
   "cell_type": "code",
   "execution_count": 8,
   "metadata": {},
   "outputs": [],
   "source": [
    "def create_dictionary(input_file, output_file):\n",
    "    output = open(output_file, 'w')\n",
    "    with open(input_file) as dictionary_file:\n",
    "        result = {}\n",
    "        articles = dictionary_file.read()\n",
    "        words = re.split(r'[-\"\\';&=*#:\\[\\]/.’?!,\\s)\\d+(]\\s*', articles)\n",
    "        for word in words:\n",
    "            result[word] = word.lower()\n",
    "        entries = set(result.values())\n",
    "        for entry in entries:\n",
    "            output.write(entry + '\\n')\n",
    "    output.close()\n",
    "create_dictionary(\"article.txt\", \"dictionary.txt\")"
   ]
  },
  {
   "cell_type": "code",
   "execution_count": 14,
   "metadata": {},
   "outputs": [],
   "source": [
    "def check_spelling(input_file, dictionary_file):\n",
    "    with open (dictionary_file) as dictionary:\n",
    "        dictionary_words = set(dictionary.read().split('\\n'))\n",
    "    with open(input_file) as file:\n",
    "        reviews = file.read()\n",
    "        words = re.split(r'[-\"\\';&=#*:\\[\\]/.’?!,\\s)\\d+(]\\s*', reviews)\n",
    "        entries = set(words)\n",
    "    non_dictionary = open(\"not_in_dictionary.txt\", 'w') \n",
    "    for entry in entries:\n",
    "        if entry.lower() not in dictionary_words:\n",
    "            non_dictionary.write(entry.lower() + '\\n')\n",
    "    non_dictionary.close()\n",
    "    result = open(\"reviews_translated.txt\", 'w')\n",
    "    translated_words  = [word for word in words if word.lower() not in dictionary_words]\n",
    "    result.write(' '.join(translated_words))\n",
    "    result.close()\n",
    "check_spelling(\"reviews.txt\", \"dictionary.txt\")"
   ]
  },
  {
   "cell_type": "code",
   "execution_count": null,
   "metadata": {
    "collapsed": true
   },
   "outputs": [],
   "source": []
  }
 ],
 "metadata": {
  "kernelspec": {
   "display_name": "Python 2",
   "language": "python",
   "name": "python2"
  },
  "language_info": {
   "codemirror_mode": {
    "name": "ipython",
    "version": 2
   },
   "file_extension": ".py",
   "mimetype": "text/x-python",
   "name": "python",
   "nbconvert_exporter": "python",
   "pygments_lexer": "ipython2",
   "version": "2.7.13"
  }
 },
 "nbformat": 4,
 "nbformat_minor": 2
}
