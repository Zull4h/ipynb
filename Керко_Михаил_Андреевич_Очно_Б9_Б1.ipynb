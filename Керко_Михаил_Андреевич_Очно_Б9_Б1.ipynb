{
 "cells": [
  {
   "cell_type": "markdown",
   "metadata": {},
   "source": [
    "### Керко Михаил Андреевич"
   ]
  },
  {
   "cell_type": "markdown",
   "metadata": {},
   "source": [
    "# K-means clustering\n",
    "#### Into 3 clusters \n",
    "#### Predictor variables: жилая площадь и цена"
   ]
  },
  {
   "cell_type": "code",
   "execution_count": 1,
   "metadata": {},
   "outputs": [],
   "source": [
    "import matplotlib.pyplot as plt\n",
    "import pandas as pd\n",
    "import numpy as np\n",
    "import sklearn\n",
    "from sklearn import cluster, datasets"
   ]
  },
  {
   "cell_type": "code",
   "execution_count": 5,
   "metadata": {},
   "outputs": [],
   "source": [
    "data = pd.read_csv('C:/Users/Owner/Desktop/realtXY16.csv');"
   ]
  },
  {
   "cell_type": "code",
   "execution_count": 6,
   "metadata": {},
   "outputs": [
    {
     "data": {
      "image/png": "[encoded data removed]",
      "text/plain": [
       "<Figure size 432x288 with 1 Axes>"
      ]
     },
     "metadata": {
      "needs_background": "light"
     },
     "output_type": "display_data"
    }
   ],
   "source": [
    "x=data['Жилая'][~np.isnan(data['Жилая'])].values\n",
    "y=data['Цена'][~np.isnan(data['Цена'])][:x.size].values\n",
    "array=np.column_stack((x,y))\n",
    "kmeans = cluster.KMeans(n_clusters=3)\n",
    "kmeans.fit(array) #model building\n",
    "y_kmeans = kmeans.predict(array)\n",
    "\n",
    "plt.scatter(array[:, 0], array[:, 1], c=y_kmeans, s=50, cmap='viridis')\n",
    "centers = kmeans.cluster_centers_\n",
    "plt.scatter(centers[:, 0], centers[:, 1], c='black', s=200, alpha=0.5);"
   ]
  },
  {
   "cell_type": "markdown",
   "metadata": {},
   "source": [
    "# Linear regression\n",
    "#### Showing underpriced apartments\n",
    "#### Predictor variables: Общая, Квм, Район, Жилая, Этажность, Этаж, Кухня, Балкон, Раздельных\n",
    "#### Target variable: price"
   ]
  },
  {
   "cell_type": "code",
   "execution_count": 9,
   "metadata": {},
   "outputs": [],
   "source": [
    "import matplotlib.pyplot as plt\n",
    "import pandas as pd\n",
    "import numpy as np\n",
    "from sklearn.linear_model import LinearRegression\n",
    "from sklearn.preprocessing import PolynomialFeatures\n",
    "from sklearn.linear_model import LinearRegression"
   ]
  },
  {
   "cell_type": "code",
   "execution_count": null,
   "metadata": {},
   "outputs": [],
   "source": [
    "realt_data = pd.read_csv('C:/Users/Owner/Desktop/realtXY16.csv');"
   ]
  },
  {
   "cell_type": "code",
   "execution_count": 10,
   "metadata": {},
   "outputs": [
    {
     "name": "stdout",
     "output_type": "stream",
     "text": [
      "Коэффициенты регрессии: \n",
      "  [-6.18303883e+16 -7.96804176e+16 -2.28997334e+15 ... -2.52142500e+04\n",
      "  3.34115279e+15  3.34115279e+15]\n"
     ]
    }
   ],
   "source": [
    "# categorial variables\n",
    "params_array = ['Общая','Квм','Район','Жилая','Этажность','Этаж','Кухня','Балкон','Раздельных']\n",
    "categorial = realt_data.loc[:, params_array]\n",
    "\n",
    "# convert categorial to indicators\n",
    "indicator = pd.get_dummies(categorial, columns=params_array, prefix=params_array)\n",
    "\n",
    "# merge\n",
    "real_price=realt_data['Цена'].to_frame()\n",
    "\n",
    "merged_realt_data = pd.merge(real_price, indicator, left_index=True, right_index=True)\n",
    "\n",
    "model = LinearRegression()\n",
    "\n",
    "Y = merged_realt_data['Цена']\n",
    "\n",
    "X = merged_realt_data.drop(columns=['Цена'])\n",
    "\n",
    "model.fit(X, Y) #model building\n",
    "print('Коэффициенты регрессии: \\n ', model.coef_)"
   ]
  },
  {
   "cell_type": "code",
   "execution_count": 11,
   "metadata": {},
   "outputs": [
    {
     "name": "stdout",
     "output_type": "stream",
     "text": [
      "Недооценённые квартиры: \n",
      "        Предсказанная цена     Цена\n",
      "175              21936.0  15000.0\n",
      "181              25840.0  15900.0\n",
      "196              26928.0  18000.0\n",
      "197              30120.0  18000.0\n",
      "205              27200.0  19000.0\n",
      "206              33008.0  19000.0\n",
      "210              26352.0  19000.0\n",
      "211              30880.0  19000.0\n",
      "214              27552.0  19500.0\n",
      "217              25480.0  20000.0\n",
      "219              25680.0  20000.0\n",
      "221              26672.0  20000.0\n",
      "222              27104.0  20000.0\n",
      "224              31128.0  20000.0\n",
      "226              31784.0  20500.0\n",
      "227              33336.0  21000.0\n",
      "228              32392.0  21000.0\n",
      "231              31352.0  21000.0\n",
      "238              34744.0  21500.0\n",
      "239              35640.0  21700.0\n",
      "241              29392.0  22000.0\n",
      "243              42088.0  22500.0\n",
      "246              42840.0  23000.0\n",
      "253              34640.0  24000.0\n",
      "256              47168.0  25000.0\n",
      "273              37776.0  30000.0\n",
      "278              41744.0  32000.0\n",
      "302                752.0    100.0\n",
      "2135               136.0     65.6\n"
     ]
    }
   ],
   "source": [
    "#оценка\n",
    "merged_realt_data['Предсказанная цена'] = model.predict(X)\n",
    "condition=merged_realt_data['Цена'] < 0.8 * merged_realt_data['Предсказанная цена']\n",
    "undervaluated = merged_realt_data[['Предсказанная цена', 'Цена']].loc[condition]\n",
    "print('Недооценённые квартиры: \\n ', undervaluated)"
   ]
  }
 ],
 "metadata": {
  "kernelspec": {
   "display_name": "Python 3",
   "language": "python",
   "name": "python3"
  },
  "language_info": {
   "codemirror_mode": {
    "name": "ipython",
    "version": 3
   },
   "file_extension": ".py",
   "mimetype": "text/x-python",
   "name": "python",
   "nbconvert_exporter": "python",
   "pygments_lexer": "ipython3",
   "version": "3.7.1"
  }
 },
 "nbformat": 4,
 "nbformat_minor": 2
}
