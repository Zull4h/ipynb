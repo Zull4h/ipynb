{
 "cells": [
  {
   "cell_type": "markdown",
   "metadata": {
    "collapsed": true
   },
   "source": [
    "# Lab 2 Adamovich Artyom"
   ]
  },
  {
   "cell_type": "code",
   "execution_count": null,
   "metadata": {
    "collapsed": true
   },
   "outputs": [],
   "source": [
    "import numpy as np\n",
    "import copy\n",
    "from math import *"
   ]
  },
  {
   "cell_type": "markdown",
   "metadata": {},
   "source": [
    "### 1."
   ]
  },
  {
   "cell_type": "code",
   "execution_count": null,
   "metadata": {},
   "outputs": [],
   "source": [
    "a = np.zeros((10, 10), dtype = int)\n",
    "ones = np.ones((12, 12), dtype = int)\n",
    "ones[1:-1,1:-1] = a\n",
    "ones"
   ]
  },
  {
   "cell_type": "markdown",
   "metadata": {},
   "source": [
    "### 2."
   ]
  },
  {
   "cell_type": "code",
   "execution_count": null,
   "metadata": {},
   "outputs": [],
   "source": [
    "b = np.random.randint(100, size=(20,6))\n",
    "result  = np.zeros((4, 6), dtype = float)\n",
    "for i in range(len(b[0,:])):\n",
    "    result [0, i] = min(b[:, i])\n",
    "    result [1, i] = max(b[:, i])\n",
    "    result [2, i] = b[:, i].mean()\n",
    "    result [3, i] = np.std(b[:, i])\n",
    "    \n",
    "not_lying_in_interval = np.zeros(6)\n",
    "\n",
    "for column in range(len(b[0,:])):\n",
    "    for row in range(len(b)):\n",
    "        if b[row, column] > result[2, column] + result[3, column] or b[row, column] < result[2, column] - result[3, column]:\n",
    "            not_lying_in_interval[column] = not_lying_in_interval[column]+1\n",
    "            b[row, column] = 0\n",
    "            \n",
    "number_of_columns = 0\n",
    "\n",
    "for i in range(len(b[0,:])):\n",
    "    if all(element != 0 for element in b[i, :]):\n",
    "        number_of_columns = number_of_columns + 1\n",
    "\n",
    "for column in range (len(b[0,:])):\n",
    "    if column % 2 == 1:\n",
    "        b[:,column] = np.sort(b[:, column])\n",
    "    else:\n",
    "        b[:,column] = np.sort(b[:, column])[::-1]\n",
    "print(b)\n",
    "print(result)"
   ]
  },
  {
   "cell_type": "markdown",
   "metadata": {},
   "source": [
    "### 3."
   ]
  },
  {
   "cell_type": "code",
   "execution_count": null,
   "metadata": {
    "collapsed": true
   },
   "outputs": [],
   "source": [
    "def func(x, y):\n",
    "    return math.sin(x + 2*y)**3 + math.fabs(math.cos(x*y + 7))\n",
    "def min_max_val(amount_of_points):\n",
    "    min_value_of_arg = -6.5\n",
    "    max_value_of_arg = 6.5\n",
    "    values_of_arg = np.linspace(min_value_of_arg, max_value_of_arg, amount_of_points)\n",
    "    values = np.zeros(len(values_of_arg)**2, dtype = float)\n",
    "    n = 0\n",
    "    for i in range(len(values_of_arg)):\n",
    "        for j in range(len(values_of_arg)):\n",
    "            values[n] = func(values_of_arg[i],values_of_arg[j])\n",
    "            n = n+1\n",
    "    print(min(values))\n",
    "    print(max(values))"
   ]
  },
  {
   "cell_type": "code",
   "execution_count": null,
   "metadata": {},
   "outputs": [],
   "source": [
    "print(\"On the grid of 9 points\")\n",
    "min_max_val(9)\n",
    "print(\"On the grid of 25 points\")\n",
    "min_max_val(25)\n",
    "print(\"On the grid of 144 points\")\n",
    "min_max_val(144)"
   ]
  },
  {
   "cell_type": "markdown",
   "metadata": {},
   "source": [
    "### 4."
   ]
  },
  {
   "cell_type": "code",
   "execution_count": null,
   "metadata": {},
   "outputs": [],
   "source": [
    "arr = np.random.randint(10, size=(5,5))\n",
    "Z = np.random.randint(0,10,(3,3))\n",
    "print(arr)\n",
    "sorted_arr = arr[arr[:,1].argsort()]\n",
    "print(sorted_arr)"
   ]
  }
 ],
 "metadata": {
  "kernelspec": {
   "display_name": "Python 2",
   "language": "python",
   "name": "python2"
  },
  "language_info": {
   "codemirror_mode": {
    "name": "ipython",
    "version": 2
   },
   "file_extension": ".py",
   "mimetype": "text/x-python",
   "name": "python",
   "nbconvert_exporter": "python",
   "pygments_lexer": "ipython2",
   "version": "2.7.13"
  }
 },
 "nbformat": 4,
 "nbformat_minor": 2
}
