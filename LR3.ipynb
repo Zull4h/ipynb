{
 "cells": [
  {
   "cell_type": "markdown",
   "metadata": {},
   "source": [
    "# Task 1: DataFrame Basics\n",
    "\n",
    "Consider the following Python dictionary data and Python list labels:\n",
    "\n",
    "data = {'animal': ['cat', 'cat', 'snake', 'dog', 'dog', 'cat', 'snake', 'cat', 'dog', 'dog'], 'age': [2.5, 3, 0.5, np.nan, 5, 2, 4.5, np.nan, 7, 3], 'visits': [1, 3, 2, 3, 2, 3, 1, 1, 2, 1], 'priority': ['yes', 'yes', 'no', 'yes', 'no', 'no', 'no', 'yes', 'no', 'no']}, labels = ['a', 'b', 'c', 'd', 'e', 'f', 'g', 'h', 'i', 'j'].\n",
    "\n",
    "    a.\tCreate a DataFrame df from this dictionary data which has the index labels.\n",
    "    b.\tDisplay a summary of the basic information about this DataFrame and its data.\n",
    "    c.\tReturn the first 3 rows of the DataFrame df.\n",
    "    d.\tSelect just the 'animal' and 'age' columns from the DataFrame df.\n",
    "    e.\tSelect the data in rows [3, 4, 8] and in columns ['animal', 'age'].\n",
    "    f.\tSelect only the rows where the number of visits is greater than 3.\n",
    "    g.\tSelect the rows where the age is missing, i.e. is NaN.\n",
    "    h.\tSelect the rows where the animal is a cat and the age is less than 3.\n",
    "    i.\tSelect the rows the age is between 2 and 4 (inclusive).\n",
    "    j.\tChange the age in row 'f' to 1.5.\n",
    "    k.\tCalculate the sum of all visits (the total number of visits).\n",
    "    l.\tCalculate the mean age for each different animal in df.\n",
    "    m.\tAppend a new row 'k' to df with your choice of values for each column. Then delete that row to return the original DataFrame.\n",
    "    n.\tSort df first by the values in the 'age' in decending order, then by the value in the 'visit' column in ascending order.\n",
    "    o.\tThe 'priority' column contains the values 'yes' and 'no'. Replace this column with a column of boolean values: 'yes' should be True and 'no' should be False.\n",
    "    p.\tIn the 'animal' column, change the 'snake' entries to 'python'.\n"
   ]
  },
  {
   "cell_type": "code",
   "execution_count": 2,
   "metadata": {
    "collapsed": true
   },
   "outputs": [],
   "source": [
    "import pandas as pd\n",
    "import numpy as np"
   ]
  },
  {
   "cell_type": "code",
   "execution_count": 3,
   "metadata": {},
   "outputs": [],
   "source": [
    "# a.    Create a DataFrame df from this dictionary data which has the index labels.\n",
    "data = {'animal': ['cat', 'cat', 'snake', 'dog', 'dog', 'cat', 'snake', 'cat', 'dog', 'dog'],\n",
    "        'age': [2.5, 3, 0.5, np.nan, 5, 2, 4.5, np.nan, 7, 3],\n",
    "        'visits': [1, 3, 2, 3, 2, 3, 1, 1, 2, 1],\n",
    "        'priority': ['yes', 'yes', 'no', 'yes', 'no', 'no', 'no', 'yes', 'no', 'no']}\n",
    "labels = ['a', 'b', 'c', 'd', 'e', 'f', 'g', 'h', 'i', 'j']\n",
    "\n",
    "df = pd.DataFrame(data, index=labels)"
   ]
  },
  {
   "cell_type": "code",
   "execution_count": 4,
   "metadata": {},
   "outputs": [
    {
     "name": "stdout",
     "output_type": "stream",
     "text": [
      "DataFrame Summary:\n",
      "            age     visits\n",
      "count  8.000000  10.000000\n",
      "mean   3.437500   1.900000\n",
      "std    2.007797   0.875595\n",
      "min    0.500000   1.000000\n",
      "25%    2.375000   1.000000\n",
      "50%    3.000000   2.000000\n",
      "75%    4.625000   2.750000\n",
      "max    7.000000   3.000000\n"
     ]
    }
   ],
   "source": [
    "# b. Display a summary of the basic information about this DataFrame and its data.\n",
    "print \"DataFrame Summary:\"\n",
    "print df.describe()"
   ]
  },
  {
   "cell_type": "code",
   "execution_count": 5,
   "metadata": {},
   "outputs": [
    {
     "name": "stdout",
     "output_type": "stream",
     "text": [
      "First 3 rows of the DataFrame:\n",
      "   age animal priority  visits\n",
      "a  2.5    cat      yes       1\n",
      "b  3.0    cat      yes       3\n",
      "c  0.5  snake       no       2\n"
     ]
    }
   ],
   "source": [
    "# c. Return the first 3 rows of the DataFrame df.\n",
    "print \"First 3 rows of the DataFrame:\"\n",
    "print df.iloc[:3]"
   ]
  },
  {
   "cell_type": "code",
   "execution_count": 6,
   "metadata": {},
   "outputs": [
    {
     "name": "stdout",
     "output_type": "stream",
     "text": [
      "'Animal' and 'age' columns:\n",
      "  animal  age\n",
      "a    cat  2.5\n",
      "b    cat  3.0\n",
      "c  snake  0.5\n",
      "d    dog  NaN\n",
      "e    dog  5.0\n",
      "f    cat  2.0\n",
      "g  snake  4.5\n",
      "h    cat  NaN\n",
      "i    dog  7.0\n",
      "j    dog  3.0\n"
     ]
    }
   ],
   "source": [
    "# d. Select just the 'animal' and 'age' columns from the DataFrame df.\n",
    "print \"'Animal' and 'age' columns:\"\n",
    "print df[['animal', 'age']]"
   ]
  },
  {
   "cell_type": "code",
   "execution_count": 7,
   "metadata": {},
   "outputs": [
    {
     "name": "stdout",
     "output_type": "stream",
     "text": [
      "Data in rows [3, 4, 8] and in columns ['animal', 'age']:\n",
      "  animal  age\n",
      "d    dog  NaN\n",
      "e    dog  5.0\n",
      "i    dog  7.0\n"
     ]
    },
    {
     "name": "stderr",
     "output_type": "stream",
     "text": [
      "C:\\Users\\Asus\\Anaconda2\\lib\\site-packages\\ipykernel_launcher.py:3: DeprecationWarning: \n",
      ".ix is deprecated. Please use\n",
      ".loc for label based indexing or\n",
      ".iloc for positional indexing\n",
      "\n",
      "See the documentation here:\n",
      "http://pandas.pydata.org/pandas-docs/stable/indexing.html#deprecate_ix\n",
      "  This is separate from the ipykernel package so we can avoid doing imports until\n"
     ]
    }
   ],
   "source": [
    "# e. Select the data in rows [3, 4, 8] and in columns ['animal', 'age'].\n",
    "print \"Data in rows [3, 4, 8] and in columns ['animal', 'age']:\"\n",
    "print df.ix[[3, 4, 8], ['animal', 'age']]"
   ]
  },
  {
   "cell_type": "code",
   "execution_count": 8,
   "metadata": {},
   "outputs": [
    {
     "name": "stdout",
     "output_type": "stream",
     "text": [
      "The rows where the number of visits is greater than 3:\n",
      "Empty DataFrame\n",
      "Columns: [age, animal, priority, visits]\n",
      "Index: []\n"
     ]
    }
   ],
   "source": [
    "# f. Select only the rows where the number of visits is greater than 3.\n",
    "print \"The rows where the number of visits is greater than 3:\"\n",
    "print df[df['visits'] > 3]"
   ]
  },
  {
   "cell_type": "code",
   "execution_count": 9,
   "metadata": {},
   "outputs": [
    {
     "name": "stdout",
     "output_type": "stream",
     "text": [
      "Rows where the age is missing:\n",
      "   age animal priority  visits\n",
      "d  NaN    dog      yes       3\n",
      "h  NaN    cat      yes       1\n"
     ]
    }
   ],
   "source": [
    "# g. Select the rows where the age is missing, i.e. is NaN.\n",
    "print \"Rows where the age is missing:\"\n",
    "print df[pd.isnull(df['age'])]"
   ]
  },
  {
   "cell_type": "code",
   "execution_count": 10,
   "metadata": {},
   "outputs": [
    {
     "name": "stdout",
     "output_type": "stream",
     "text": [
      "Rows where the animal is a cat and the age is less than 3:\n",
      "   age animal priority  visits\n",
      "a  2.5    cat      yes       1\n",
      "f  2.0    cat       no       3\n"
     ]
    }
   ],
   "source": [
    "# h. Select the rows where the animal is a cat and the age is less than 3.\n",
    "print \"Rows where the animal is a cat and the age is less than 3:\"\n",
    "print df[(df['animal'] == 'cat') & (df['age'] < 3)]"
   ]
  },
  {
   "cell_type": "code",
   "execution_count": 11,
   "metadata": {},
   "outputs": [
    {
     "name": "stdout",
     "output_type": "stream",
     "text": [
      "Rows where the age is between 2 and 4 (inclusive):\n",
      "   age animal priority  visits\n",
      "a  2.5    cat      yes       1\n",
      "b  3.0    cat      yes       3\n",
      "f  2.0    cat       no       3\n",
      "j  3.0    dog       no       1\n"
     ]
    }
   ],
   "source": [
    "# i. Select the rows the age is between 2 and 4 (inclusive).\n",
    "print \"Rows where the age is between 2 and 4 (inclusive):\"\n",
    "print df[df['age'].between(2, 4)]"
   ]
  },
  {
   "cell_type": "code",
   "execution_count": 12,
   "metadata": {},
   "outputs": [
    {
     "name": "stdout",
     "output_type": "stream",
     "text": [
      "Updated DataFrame:\n",
      "   age animal priority  visits\n",
      "a  2.5    cat      yes       1\n",
      "b  3.0    cat      yes       3\n",
      "c  0.5  snake       no       2\n",
      "d  NaN    dog      yes       3\n",
      "e  5.0    dog       no       2\n",
      "f  1.5    cat       no       3\n",
      "g  4.5  snake       no       1\n",
      "h  NaN    cat      yes       1\n",
      "i  7.0    dog       no       2\n",
      "j  3.0    dog       no       1\n"
     ]
    }
   ],
   "source": [
    "# j. Change the age in row 'f' to 1.5.\n",
    "df.loc['f', 'age'] = 1.5\n",
    "print \"Updated DataFrame:\"\n",
    "print df"
   ]
  },
  {
   "cell_type": "code",
   "execution_count": 41,
   "metadata": {},
   "outputs": [
    {
     "name": "stdout",
     "output_type": "stream",
     "text": [
      "The total number of visits = 19.\n"
     ]
    }
   ],
   "source": [
    "# k. Calculate the sum of all visits (the total number of visits).\n",
    "print \"The total number of visits = {}.\".format(np.sum(df['visits']))"
   ]
  },
  {
   "cell_type": "code",
   "execution_count": 42,
   "metadata": {},
   "outputs": [
    {
     "name": "stdout",
     "output_type": "stream",
     "text": [
      "The mean age for each different animal:\n",
      "animal\n",
      "cat      2.333333\n",
      "dog      5.000000\n",
      "snake    2.500000\n",
      "Name: age, dtype: float64\n"
     ]
    }
   ],
   "source": [
    "# l. Calculate the mean age for each different animal in df.\n",
    "print \"The mean age for each different animal:\"\n",
    "print df.groupby(['animal'])['age'].mean()"
   ]
  },
  {
   "cell_type": "code",
   "execution_count": 43,
   "metadata": {},
   "outputs": [
    {
     "name": "stdout",
     "output_type": "stream",
     "text": [
      "DataFrame with added row:\n",
      "   age animal priority  visits\n",
      "a  2.5    cat      yes       1\n",
      "b  3.0    cat      yes       3\n",
      "c  0.5  snake       no       2\n",
      "d  NaN    dog      yes       3\n",
      "e  5.0    dog       no       2\n",
      "f  1.5    cat       no       3\n",
      "g  4.5  snake       no       1\n",
      "h  NaN    cat      yes       1\n",
      "i  7.0    dog       no       2\n",
      "j  3.0    dog       no       1\n",
      "k  1.0    cat      yes       3\n",
      "DataFrame with deleted row:\n",
      "   age animal priority  visits\n",
      "a  2.5    cat      yes       1\n",
      "b  3.0    cat      yes       3\n",
      "c  0.5  snake       no       2\n",
      "d  NaN    dog      yes       3\n",
      "e  5.0    dog       no       2\n",
      "f  1.5    cat       no       3\n",
      "g  4.5  snake       no       1\n",
      "h  NaN    cat      yes       1\n",
      "i  7.0    dog       no       2\n",
      "j  3.0    dog       no       1\n"
     ]
    }
   ],
   "source": [
    "# m. Append a new row 'k' to df with your choice of values for each column.\n",
    "# Then delete that row to return the original DataFrame.\n",
    "df = df.append(pd.DataFrame({'age': 1, 'animal': 'cat', 'priority': 'yes', 'visits': 3}, index=['k']))\n",
    "print \"DataFrame with added row:\"\n",
    "print df\n",
    "df = df.drop('k', axis=0)\n",
    "print \"DataFrame with deleted row:\"\n",
    "print df"
   ]
  },
  {
   "cell_type": "code",
   "execution_count": 44,
   "metadata": {},
   "outputs": [
    {
     "name": "stdout",
     "output_type": "stream",
     "text": [
      "Sorted DataFrame:\n",
      "   age animal priority  visits\n",
      "i  7.0    dog       no       2\n",
      "e  5.0    dog       no       2\n",
      "g  4.5  snake       no       1\n",
      "j  3.0    dog       no       1\n",
      "b  3.0    cat      yes       3\n",
      "a  2.5    cat      yes       1\n",
      "f  1.5    cat       no       3\n",
      "c  0.5  snake       no       2\n",
      "h  NaN    cat      yes       1\n",
      "d  NaN    dog      yes       3\n"
     ]
    }
   ],
   "source": [
    "# n. Sort df first by the values in the 'age' in decending order,\n",
    "# then by the value in the 'visit' column in ascending order.\n",
    "df = df.sort_values(['age', 'visits'], ascending=[False, True])\n",
    "print \"Sorted DataFrame:\"\n",
    "print df"
   ]
  },
  {
   "cell_type": "code",
   "execution_count": 45,
   "metadata": {},
   "outputs": [
    {
     "name": "stdout",
     "output_type": "stream",
     "text": [
      "Updated DataFrame:\n",
      "   age animal priority  visits\n",
      "i  7.0    dog    False       2\n",
      "e  5.0    dog    False       2\n",
      "g  4.5  snake    False       1\n",
      "j  3.0    dog    False       1\n",
      "b  3.0    cat     True       3\n",
      "a  2.5    cat     True       1\n",
      "f  1.5    cat    False       3\n",
      "c  0.5  snake    False       2\n",
      "h  NaN    cat     True       1\n",
      "d  NaN    dog     True       3\n"
     ]
    }
   ],
   "source": [
    "# o. The 'priority' column contains the values 'yes' and 'no'. \n",
    "# Replace this column with a column of boolean values: 'yes' should be True and 'no' should be False.\n",
    "df['priority'] = df['priority'].map({'yes': True, 'no': False})\n",
    "print \"Updated DataFrame:\"\n",
    "print df"
   ]
  },
  {
   "cell_type": "code",
   "execution_count": 46,
   "metadata": {},
   "outputs": [
    {
     "name": "stdout",
     "output_type": "stream",
     "text": [
      "Updated DataFrame:\n",
      "   age  animal priority  visits\n",
      "i  7.0     dog    False       2\n",
      "e  5.0     dog    False       2\n",
      "g  4.5  python    False       1\n",
      "j  3.0     dog    False       1\n",
      "b  3.0     cat     True       3\n",
      "a  2.5     cat     True       1\n",
      "f  1.5     cat    False       3\n",
      "c  0.5  python    False       2\n",
      "h  NaN     cat     True       1\n",
      "d  NaN     dog     True       3\n"
     ]
    }
   ],
   "source": [
    "# p. In the 'animal' column, change the 'snake' entries to 'python'.\n",
    "df['animal'] = df['animal'].replace('snake', 'python')\n",
    "print \"Updated DataFrame:\"\n",
    "print df"
   ]
  }
 ],
 "metadata": {
  "kernelspec": {
   "display_name": "Python 2",
   "language": "python",
   "name": "python2"
  },
  "language_info": {
   "codemirror_mode": {
    "name": "ipython",
    "version": 2
   },
   "file_extension": ".py",
   "mimetype": "text/x-python",
   "name": "python",
   "nbconvert_exporter": "python",
   "pygments_lexer": "ipython2",
   "version": "2.7.13"
  }
 },
 "nbformat": 4,
 "nbformat_minor": 1
}
